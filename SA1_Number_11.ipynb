{
  "nbformat": 4,
  "nbformat_minor": 0,
  "metadata": {
    "colab": {
      "provenance": [],
      "authorship_tag": "ABX9TyPsnN+F06IxvnOPqSwSFAAg",
      "include_colab_link": true
    },
    "kernelspec": {
      "name": "python3",
      "display_name": "Python 3"
    },
    "language_info": {
      "name": "python"
    }
  },
  "cells": [
    {
      "cell_type": "markdown",
      "metadata": {
        "id": "view-in-github",
        "colab_type": "text"
      },
      "source": [
        "<a href=\"https://colab.research.google.com/github/Chuuya1124/APM1201/blob/main/SA1_Number_11.ipynb\" target=\"_parent\"><img src=\"https://colab.research.google.com/assets/colab-badge.svg\" alt=\"Open In Colab\"/></a>"
      ]
    },
    {
      "cell_type": "markdown",
      "source": [
        "Write a Python program that simulates a handheld calculator. Your program should process input from the Python console representing buttons that are “pushed,” and then output the contents of the screen after each operation is performed. Minimally, your calculator should be able to process the basic arithmetic operations and a reset/clear operation."
      ],
      "metadata": {
        "id": "M72egsC_UzNh"
      }
    },
    {
      "cell_type": "code",
      "source": [
        "class Calculator:\n",
        "    def __init__(self):\n",
        "        self.screen = 0\n",
        "        self.current_input = \"\"\n",
        "        self.operator = None\n",
        "        self.history = \"\"\n",
        "        self.has_result = False\n",
        "\n",
        "    def clear(self):\n",
        "        self.screen = 0\n",
        "        self.current_input = \"\"\n",
        "        self.operator = None\n",
        "        self.history = \"\"\n",
        "        self.has_result = False\n",
        "        print(\"Screen: 0 (Cleared)\")\n",
        "\n",
        "    def process_input(self, inputs):\n",
        "        for user_input in inputs:\n",
        "            if user_input.isdigit() or user_input == \".\":\n",
        "                if self.has_result:\n",
        "                    self.current_input = user_input\n",
        "                    self.has_result = False\n",
        "                else:\n",
        "                    self.current_input += user_input\n",
        "                print(f\"Screen: {self.history + self.current_input}\")\n",
        "            elif user_input in \"+-*/\":\n",
        "                if self.current_input:\n",
        "                    self.screen = float(self.current_input)\n",
        "                    self.operator = user_input\n",
        "                    self.history += self.current_input + \" \" + self.operator + \" \"\n",
        "                    self.current_input = \"\"\n",
        "                    print(f\"Screen: {self.history}\")\n",
        "                else:\n",
        "                    print(\"Error: Enter a valid number first.\")\n",
        "            elif user_input == \"=\" and self.current_input and self.operator:\n",
        "                second_operand = float(self.current_input)\n",
        "                if self.operator == \"/\" and second_operand == 0:\n",
        "                    print(\"Error: Cannot divide by zero.\")\n",
        "                    self.clear()\n",
        "                else:\n",
        "                    self.screen = eval(f\"{self.screen}{self.operator}{second_operand}\")\n",
        "                    self.history += self.current_input + \" = \" + str(self.screen)\n",
        "                    print(f\"Screen: {self.history}\")\n",
        "                self.current_input = \"\"\n",
        "                self.operator = None\n",
        "                self.has_result = True\n",
        "            elif user_input.lower() == \"c\":\n",
        "                self.clear()\n",
        "            else:\n",
        "                print(f\"Invalid input: '{user_input}'\")\n",
        "\n",
        "def main():\n",
        "    calc = Calculator()\n",
        "    print(\"Enter a sequence of button presses (e.g., '12+34=56-3=' or '9/0='): \")\n",
        "\n",
        "    input_sequence = input(\"Input: \")\n",
        "    calc.process_input(input_sequence)\n",
        "main()\n"
      ],
      "metadata": {
        "colab": {
          "base_uri": "https://localhost:8080/"
        },
        "id": "MT2lyJ57Ykge",
        "outputId": "d3592b9a-55b6-47e6-eb38-3c40acbfc11d"
      },
      "execution_count": 10,
      "outputs": [
        {
          "output_type": "stream",
          "name": "stdout",
          "text": [
            "Enter a sequence of button presses (e.g., '12+34=56-3=' or '9/0='): \n",
            "Input: 11*24=\n",
            "Screen: 1\n",
            "Screen: 11\n",
            "Screen: 11 * \n",
            "Screen: 11 * 2\n",
            "Screen: 11 * 24\n",
            "Screen: 11 * 24 = 264.0\n"
          ]
        }
      ]
    }
  ]
}