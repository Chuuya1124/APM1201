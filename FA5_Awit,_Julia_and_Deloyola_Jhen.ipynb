{
  "nbformat": 4,
  "nbformat_minor": 0,
  "metadata": {
    "colab": {
      "provenance": [],
      "include_colab_link": true
    },
    "kernelspec": {
      "name": "python3",
      "display_name": "Python 3"
    },
    "language_info": {
      "name": "python"
    }
  },
  "cells": [
    {
      "cell_type": "markdown",
      "metadata": {
        "id": "view-in-github",
        "colab_type": "text"
      },
      "source": [
        "<a href=\"https://colab.research.google.com/github/Chuuya1124/APM1201/blob/main/FA5_Awit%2C_Julia_and_Deloyola_Jhen.ipynb\" target=\"_parent\"><img src=\"https://colab.research.google.com/assets/colab-badge.svg\" alt=\"Open In Colab\"/></a>"
      ]
    },
    {
      "cell_type": "markdown",
      "source": [
        "Write a Python function that takes two three-dimensional numeric data\n",
        "sets and adds them componentwise."
      ],
      "metadata": {
        "id": "IfjFt-Kn_Iqt"
      }
    },
    {
      "cell_type": "code",
      "source": [
        "import numpy as np\n",
        "\n",
        "def add_datasets(data1, data2):\n",
        "    data1 = np.array(data1)\n",
        "    data2 = np.array(data2)\n",
        "    if data1.shape != (3,) or data2.shape != (3,):\n",
        "        raise ValueError(\"Both datasets must be three-dimensional.\")\n",
        "    result = data1 + data2\n",
        "    return result\n",
        "\n",
        "data1 = [0, 11, 23]\n",
        "data2 = [4, 10, 27]\n",
        "result = add_datasets(data1, data2)\n",
        "print(result)"
      ],
      "metadata": {
        "colab": {
          "base_uri": "https://localhost:8080/"
        },
        "id": "DI-RdR9f3yVr",
        "outputId": "f2e712c2-fbcf-4ffb-e1fd-0233448bc74e"
      },
      "execution_count": null,
      "outputs": [
        {
          "output_type": "stream",
          "name": "stdout",
          "text": [
            "[ 4 21 50]\n"
          ]
        }
      ]
    },
    {
      "cell_type": "markdown",
      "source": [
        "Give a complete ArrayDeque implementation of the double-ended queue\n",
        "ADT as sketched in Section 6.3.2."
      ],
      "metadata": {
        "id": "6wyKhEPR_awG"
      }
    },
    {
      "cell_type": "code",
      "source": [
        "class ArrayDeque:\n",
        "\n",
        "    def __init__(self, capacity=10):\n",
        "        self._data = [None] * capacity  # circular array\n",
        "        self._size = 0                  # current number of elements\n",
        "        self._front = 0                 # front index\n",
        "\n",
        "    def __len__(self):\n",
        "        return self._size\n",
        "\n",
        "    def is_empty(self):\n",
        "        return self._size == 0\n",
        "\n",
        "    def first(self):\n",
        "        if self.is_empty():\n",
        "            raise IndexError(\"Deque is empty\")\n",
        "        return self._data[self._front]\n",
        "\n",
        "    def last(self):\n",
        "        if self.is_empty():\n",
        "            raise IndexError(\"Deque is empty\")\n",
        "        return self._data[(self._front + self._size - 1) % len(self._data)]\n",
        "\n",
        "    def add_first(self, e):\n",
        "        if self._size == len(self._data):\n",
        "            self._resize(2 * len(self._data))\n",
        "        self._front = (self._front - 1) % len(self._data)  # wrap aund\n",
        "        self._data[self._front] = e\n",
        "        self._size += 1\n",
        "\n",
        "    def add_last(self, e):\n",
        "        if self._size == len(self._data):\n",
        "            self._resize(2 * len(self._data))\n",
        "        back = (self._front + self._size) % len(self._data)\n",
        "        self._data[back] = e\n",
        "        self._size += 1\n",
        "\n",
        "    def delete_first(self):\n",
        "        if self.is_empty():\n",
        "            raise IndexError(\"Deque is empty\")\n",
        "        value = self._data[self._front]\n",
        "        self._data[self._front] = None\n",
        "        self._front = (self._front + 1) % len(self._data)\n",
        "        self._size -= 1\n",
        "        if 0 < self._size < len(self._data) // 4:\n",
        "            self._resize(len(self._data) // 2)\n",
        "        return value\n",
        "\n",
        "    def delete_last(self):\n",
        "        if self.is_empty():\n",
        "            raise IndexError(\"Deque is empty\")\n",
        "        back = (self._front + self._size - 1) % len(self._data)\n",
        "        value = self._data[back]\n",
        "        self._data[back] = None\n",
        "        self._size -= 1\n",
        "        if 0 < self._size < len(self._data) // 4:\n",
        "            self._resize(len(self._data) // 2)\n",
        "        return value\n",
        "\n",
        "    def _resize(self, new_capacity):\n",
        "        old_data = self._data\n",
        "        self._data = [None] * new_capacity\n",
        "        for i in range(self._size):\n",
        "            self._data[i] = old_data[(self._front + i) % len(old_data)]\n",
        "        self._front = 0\n",
        "\n",
        "# Initialize the deque\n",
        "deque = ArrayDeque()\n",
        "\n",
        "# Add elements to the front and back\n",
        "deque.add_first(10)\n",
        "deque.add_last(20)\n",
        "deque.add_first(5)\n",
        "deque.add_last(30)\n",
        "\n",
        "# Print the first and last elements\n",
        "print(\"First element:\", deque.first())  # Should output 5\n",
        "print(\"Last element:\", deque.last())    # Should output 30\n",
        "\n",
        "# Remove elements from the front and back\n",
        "print(\"Deleted first element:\", deque.delete_first())  # Should remove and output 5\n",
        "print(\"Deleted last element:\", deque.delete_last())    # Should remove and output 30\n",
        "\n",
        "# Check the remaining elements\n",
        "print(\"New first element:\", deque.first())  # Should output 10\n",
        "print(\"New last element:\", deque.last())    # Should output 20\n",
        "\n",
        "# Check if deque is empty\n",
        "print(\"Is deque empty?\", deque.is_empty())  # Should output False\n",
        "\n",
        "# Get the size of the deque\n",
        "print(\"Size of deque:\", len(deque))  # Should output the number of remaining elements\n"
      ],
      "metadata": {
        "id": "V2SxK9pC_kL4",
        "colab": {
          "base_uri": "https://localhost:8080/"
        },
        "outputId": "4b486c28-6302-4bdc-b479-b5c463c1e5db"
      },
      "execution_count": 12,
      "outputs": [
        {
          "output_type": "stream",
          "name": "stdout",
          "text": [
            "First element: 5\n",
            "Last element: 30\n",
            "Deleted first element: 5\n",
            "Deleted last element: 30\n",
            "New first element: 10\n",
            "New last element: 20\n",
            "Is deque empty? False\n",
            "Size of deque: 2\n"
          ]
        }
      ]
    }
  ]
}