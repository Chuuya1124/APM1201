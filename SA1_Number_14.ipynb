{
  "nbformat": 4,
  "nbformat_minor": 0,
  "metadata": {
    "colab": {
      "provenance": [],
      "authorship_tag": "ABX9TyNrRiSRHoPD0w+mS0oxe6xL",
      "include_colab_link": true
    },
    "kernelspec": {
      "name": "python3",
      "display_name": "Python 3"
    },
    "language_info": {
      "name": "python"
    }
  },
  "cells": [
    {
      "cell_type": "markdown",
      "metadata": {
        "id": "view-in-github",
        "colab_type": "text"
      },
      "source": [
        "<a href=\"https://colab.research.google.com/github/Chuuya1124/APM1201/blob/main/SA1_Number_14.ipynb\" target=\"_parent\"><img src=\"https://colab.research.google.com/assets/colab-badge.svg\" alt=\"Open In Colab\"/></a>"
      ]
    },
    {
      "cell_type": "markdown",
      "source": [
        "Suppose you are given an n-element sequence, S, containing distinct integers that are listed in increasing order. Given a number k, describe a recursive algorithm to find two integers in S that sum to k, if such a pair exists. What is the running time of your algorithm?"
      ],
      "metadata": {
        "id": "a1SU1UbVfwFa"
      }
    },
    {
      "cell_type": "code",
      "source": [
        "def find_pair_with_sum(S, k):\n",
        "    def recursive_search(left, right):\n",
        "        if left >= right:\n",
        "            return None\n",
        "\n",
        "        current_sum = S[left] + S[right]\n",
        "\n",
        "        if current_sum == k:\n",
        "            return (S[left], S[right])\n",
        "        elif current_sum < k:\n",
        "            return recursive_search(left + 1, right)\n",
        "        else:\n",
        "            return recursive_search(left, right - 1)\n",
        "\n",
        "    ## Time Complexity: O(n)\n",
        "    ## Explanation:\n",
        "    ## - The algorithm uses two pointers that traverse the list at most once.\n",
        "    ## - Each element is considered a maximum of once while moving the pointers.\n",
        "    ## - Thus, the total number of comparisons made is proportional to the number of elements in S.\n",
        "\n",
        "    return recursive_search(0, len(S) - 1)\n",
        "\n",
        "##Example\n",
        "S = [1, 20, 3, 2, 5, 6, 7, 8, 9]\n",
        "k = 25\n",
        "result = find_pair_with_sum(S, k)\n",
        "\n",
        "if result:\n",
        "    print(f\"Pair found: {result}\")\n",
        "else:\n",
        "    print(\"No pair found.\")\n"
      ],
      "metadata": {
        "colab": {
          "base_uri": "https://localhost:8080/"
        },
        "id": "RBnFVSdegb2e",
        "outputId": "ba75395d-0955-44be-b751-f000cd7afb16"
      },
      "execution_count": 12,
      "outputs": [
        {
          "output_type": "stream",
          "name": "stdout",
          "text": [
            "Pair found: (20, 5)\n"
          ]
        }
      ]
    }
  ]
}