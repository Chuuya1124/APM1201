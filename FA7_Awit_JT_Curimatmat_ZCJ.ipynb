{
  "nbformat": 4,
  "nbformat_minor": 0,
  "metadata": {
    "colab": {
      "provenance": [],
      "include_colab_link": true
    },
    "kernelspec": {
      "name": "python3",
      "display_name": "Python 3"
    },
    "language_info": {
      "name": "python"
    }
  },
  "cells": [
    {
      "cell_type": "markdown",
      "metadata": {
        "id": "view-in-github",
        "colab_type": "text"
      },
      "source": [
        "<a href=\"https://colab.research.google.com/github/Chuuya1124/APM1201/blob/main/FA7_Awit_JT_Curimatmat_ZCJ.ipynb\" target=\"_parent\"><img src=\"https://colab.research.google.com/assets/colab-badge.svg\" alt=\"Open In Colab\"/></a>"
      ]
    },
    {
      "cell_type": "markdown",
      "source": [
        "P-9.53 Implement the in-place heap-sort algorithm. Experimentally compare its\n",
        "running time with that of the standard heap-sort that is not in-place."
      ],
      "metadata": {
        "id": "EsEZIq2ziagt"
      }
    },
    {
      "cell_type": "code",
      "source": [
        "import time\n",
        "import random\n",
        "\n",
        "# In-place Heap Sort\n",
        "def heap_sort_in_place(arr):\n",
        "    def heapify(arr, n, i):\n",
        "        largest = i\n",
        "        left, right = 2 * i + 1, 2 * i + 2\n",
        "        if left < n and arr[left] > arr[largest]: largest = left\n",
        "        if right < n and arr[right] > arr[largest]: largest = right\n",
        "        if largest != i:\n",
        "            arr[i], arr[largest] = arr[largest], arr[i]\n",
        "            heapify(arr, n, largest)\n",
        "\n",
        "    n = len(arr)\n",
        "    for i in range(n // 2 - 1, -1, -1): heapify(arr, n, i)\n",
        "    for i in range(n - 1, 0, -1):\n",
        "        arr[i], arr[0] = arr[0], arr[i]\n",
        "        heapify(arr, i, 0)\n",
        "\n",
        "# Standard Heap Sort (Not in-place)\n",
        "def heap_sort_standard(arr):\n",
        "    def heapify(heap, size, i):\n",
        "        largest = i\n",
        "        left, right = 2 * i + 1, 2 * i + 2\n",
        "        if left < size and heap[left] > heap[largest]: largest = left\n",
        "        if right < size and heap[right] > heap[largest]: largest = right\n",
        "        if largest != i:\n",
        "            heap[i], heap[largest] = heap[largest], heap[i]\n",
        "            heapify(heap, size, largest)\n",
        "\n",
        "    heap = arr[:]\n",
        "    n = len(heap)\n",
        "    for i in range(n // 2 - 1, -1, -1): heapify(heap, n, i)\n",
        "    for i in range(n - 1, 0, -1):\n",
        "        heap[i], heap[0] = heap[0], heap[i]\n",
        "        heapify(heap, i, 0)\n",
        "    return heap\n",
        "\n",
        "# Compare Running Times\n",
        "def compare_heap_sort_algorithms():\n",
        "    sizes = [500, 1000, 3000, 5000, 10000, 20000, 30000, 50000]\n",
        "    print(f\"{'Size':<10}{'In-Place Time (s)':<20}{'Standard Time (s)':<20}\")\n",
        "    for size in sizes:\n",
        "        arr = [random.randint(0, 100000) for _ in range(size)]\n",
        "\n",
        "        start = time.time()\n",
        "        heap_sort_in_place(arr[:])\n",
        "        in_place_time = time.time() - start\n",
        "\n",
        "        start = time.time()\n",
        "        heap_sort_standard(arr[:])\n",
        "        standard_time = time.time() - start\n",
        "\n",
        "        print(f\"{size:<10}{in_place_time:<20.6f}{standard_time:<20.6f}\")\n",
        "\n",
        "if __name__ == \"__main__\":\n",
        "    compare_heap_sort_algorithms()\n"
      ],
      "metadata": {
        "colab": {
          "base_uri": "https://localhost:8080/"
        },
        "id": "47ZsjOnExdlz",
        "outputId": "82f32ac4-105d-4729-d0cc-df326a2c5832"
      },
      "execution_count": 1,
      "outputs": [
        {
          "output_type": "stream",
          "name": "stdout",
          "text": [
            "Size      In-Place Time (s)   Standard Time (s)   \n",
            "500       0.009342            0.004808            \n",
            "1000      0.017190            0.028218            \n",
            "3000      0.114599            0.093899            \n",
            "5000      0.152188            0.163125            \n",
            "10000     0.282320            0.288941            \n",
            "20000     0.799789            0.619364            \n",
            "30000     0.732054            0.637848            \n",
            "50000     0.605768            0.615654            \n"
          ]
        }
      ]
    },
    {
      "cell_type": "markdown",
      "source": [
        "P-9.55 Write a program that can process a sequence of stock buy and sell orders\n",
        "as described in Exercise C-9.50."
      ],
      "metadata": {
        "id": "W5Ugp43eigtG"
      }
    },
    {
      "cell_type": "code",
      "source": [
        "import heapq\n",
        "\n",
        "class stock_order:\n",
        "    def __init__(self):\n",
        "        self.sell_orders = []\n",
        "        self.buy_orders = []\n",
        "\n",
        "    def order(self, order_type, price):\n",
        "        if order_type == \"buy\":\n",
        "            if self.sell_orders and self.sell_orders[0] <= price:\n",
        "                print(f\"Executed buy at ${heapq.heappop(self.sell_orders)}\")\n",
        "            else:\n",
        "                heapq.heappush(self.buy_orders, -price)\n",
        "        elif order_type == \"sell\":\n",
        "            if self.buy_orders and -self.buy_orders[0] >= price:\n",
        "                print(f\"Executed sell at ${-heapq.heappop(self.buy_orders)}\")\n",
        "            else:\n",
        "                heapq.heappush(self.sell_orders, price)\n",
        "\n",
        "    def display_orders(self):\n",
        "        print(\"Buy Orders:\", [-p for p in self.buy_orders])\n",
        "        print(\"Sell Orders:\", self.sell_orders)\n",
        "\n",
        "if __name__ == \"__main__\":\n",
        "    processor = StockOrderProcessor()\n",
        "    for order in [(\"buy\", 100), (\"sell\", 105), (\"buy\", 110), (\"sell\", 95), (\"sell\", 100), (\"buy\", 90)]:\n",
        "        processor.process_order(*order)\n",
        "    processor.display_orders()"
      ],
      "metadata": {
        "id": "1EalyNhpimMy",
        "colab": {
          "base_uri": "https://localhost:8080/"
        },
        "outputId": "cbed2b60-7e94-4381-a563-372f8e3ab6af"
      },
      "execution_count": null,
      "outputs": [
        {
          "output_type": "stream",
          "name": "stdout",
          "text": [
            "Executed buy at $105\n",
            "Executed sell at $100\n",
            "Buy Orders: [90]\n",
            "Sell Orders: [100]\n"
          ]
        }
      ]
    },
    {
      "cell_type": "code",
      "source": [],
      "metadata": {
        "id": "5-C-vBAe2TZz"
      },
      "execution_count": null,
      "outputs": []
    }
  ]
}